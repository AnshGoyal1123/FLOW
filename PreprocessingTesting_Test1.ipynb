{
 "cells": [
  {
   "cell_type": "markdown",
   "metadata": {},
   "source": [
    "This is my first attempt at trying to perform preprocessing on PPG data to get clean values. This dataset was obtained [**here**](https://www.kaggle.com/datasets/krishd123/ppg-collection-for-cognitive-strain)."
   ]
  },
  {
   "cell_type": "code",
   "execution_count": null,
   "metadata": {},
   "outputs": [],
   "source": [
    "# Handling initial imports\n",
    "import numpy as np\n",
    "import matplotlib.pyplot as plt\n",
    "import pandas as pd\n",
    "import os\n",
    "import sys\n",
    "from scipy.signal import hilbert\n",
    "from scipy.stats import skew\n",
    "from pyemd import EMD\n",
    "from sklearn.preprocessing import StandardScaler"
   ]
  },
  {
   "cell_type": "code",
   "execution_count": null,
   "metadata": {},
   "outputs": [],
   "source": [
    "# Reading data from low and high workload files for Patient 2\n",
    "data_file_low = pd.read_csv(\"Data\\PPG for Cognitive Strain\\Low_MWL\\Low_MWL\\p2l.csv\")\n",
    "print(data_file_low)\n",
    "\n",
    "data_file_high = pd.read_csv(\"Data\\PPG for Cognitive Strain\\High_MWL\\High_MWL\\p2h.csv\")\n",
    "print(data_file_high)"
   ]
  },
  {
   "cell_type": "code",
   "execution_count": null,
   "metadata": {},
   "outputs": [],
   "source": [
    "#Extracting Low PPG Signal\n",
    "signal_low = data_file_low['Trial 1:0back']\n",
    "\n",
    "#Setting sampling rate to 256 Hz\n",
    "sampling_rate = 256\n",
    "\n",
    "#Creating a time array based on the sampling rate and length of PPG values\n",
    "time = np.arange(len(signal_low))/sampling_rate\n",
    "\n",
    "#Plot the PPG over time\n",
    "plt.plot(time, signal_low)\n",
    "plt.xlabel(\"Time\")\n",
    "plt.ylabel(\"PPG Amplitude\")\n",
    "plt.title(\"PPG Signal 1: Low Workload\")"
   ]
  },
  {
   "cell_type": "code",
   "execution_count": null,
   "metadata": {},
   "outputs": [],
   "source": [
    "#Extracting High PPG Signal\n",
    "signal_high = data_file_high['Trial 3:3back']\n",
    "\n",
    "#Plot the PPG over time\n",
    "plt.plot(time, signal_high)\n",
    "plt.xlabel(\"Time\")\n",
    "plt.ylabel(\"PPG Amplitude\")\n",
    "plt.title(\"PPG Signal 2: High Workload\")"
   ]
  },
  {
   "cell_type": "code",
   "execution_count": null,
   "metadata": {},
   "outputs": [],
   "source": [
    "#Selecting column 1 of the dataframe and 768 rows of data\n",
    "column_1_low = data_file_low['Trial 1:0back'].iloc[0:768]\n",
    "signal_1 = column_1_low.values\n",
    "time_series = np.arange(len(column_1_low))/sampling_rate\n",
    "\n",
    "#Computing Intrinsic Mode Functions using EMD\n",
    "config = {'spline_kind':'cubic', 'MAX_ITERATION':100}\n",
    "emd = EMD(**config)\n",
    "imfs = emd(signal_1, max_imf=7)\n",
    "print('imfs = ' + f'{imfs.shape[0]:4d}')\n",
    "dt = time_series[0] - time_series[1]"
   ]
  },
  {
   "cell_type": "code",
   "execution_count": null,
   "metadata": {},
   "outputs": [],
   "source": [
    "# Extract analytical signal thorugh Hilbert Transformations\n",
    "def instant_phase(imfs):\n",
    "    analytic_signal = hilbert(imfs)\n",
    "    phase = np.unwrap(np.angle(analytic_signal))\n",
    "    return phase\n",
    "\n",
    "# Extract instantaneous phases and frequencies using the Hilbert Transform\n",
    "instant_phases = instant_phase(imfs)\n",
    "instant_freqs = np.diff(instant_phases)/(2*np.pi*dt)"
   ]
  },
  {
   "cell_type": "code",
   "execution_count": null,
   "metadata": {},
   "outputs": [],
   "source": [
    "#Create a 3 panel figure showing the input signal, all IMFs, and instantaneous frequencies\n",
    "fig, axes = plt.subplots(3, figsize = (15,15))\n",
    "\n",
    "#Input Signal\n",
    "ax = axes[0]\n",
    "ax.plot(time_series, signal_1)\n",
    "ax.set_ylabel(\"Amplitude\")\n",
    "ax.set_title(\"Input signal\")\n",
    "\n",
    "#All IMFs\n",
    "ax = axes[1]\n",
    "for num, imf in enumerate(imfs):\n",
    "    ax.plot(time_series, imf, label='IMF %s' %(num + 1))\n",
    "ax.set_ylabel(\"Amplitude\") \n",
    "ax.set_title(\"IMFs\")\n",
    "\n",
    "#All instantaneous frequencies\n",
    "ax = axes[2]\n",
    "for num, instant_freq in enumerate (instant_freqs):\n",
    "    ax.plot(time_series[:-1], instant_freq, label = 'Freq %s' %(num + 1))   \n",
    "ax.set_xlabel(\"Time [s]\")\n",
    "ax.set_ylabel(\"Inst. Freq. [Hz]\")\n",
    "ax.set_title(\"Hilbert Transform\")\n",
    "\n",
    "plt.show()"
   ]
  },
  {
   "cell_type": "code",
   "execution_count": null,
   "metadata": {},
   "outputs": [],
   "source": [
    "# Plotting all the IMFs alongside the input signal\n",
    "nIMFs = imfs.shape[0]\n",
    "plt.figure(figsize=(24,24))\n",
    "plt.subplot(nIMFs+1, 1, 1)\n",
    "plt.plot(signal_1, 'r')\n",
    "plt.ylabel('PPG Amplitude')\n",
    "\n",
    "for n in range(nIMFs):\n",
    "    plt.subplot(nIMFs+1, 1, n+2)\n",
    "    plt.plot(imfs[n], 'g')\n",
    "    plt.ylabel(\"IMF %i\" %(n+1))\n",
    "    plt.locator_params(axis='y', nbins=5)\n",
    "\n",
    "plt.xlabel(\"Time [s]\")\n",
    "plt.show()"
   ]
  },
  {
   "cell_type": "code",
   "execution_count": null,
   "metadata": {},
   "outputs": [],
   "source": [
    "#Repeating the above steps for the high workload dataset\n",
    "column_1_high = data_file_high['Trial 3:3back'].iloc[0:768]\n",
    "signal_2 = column_1_high.values\n",
    "time_series = np.arange(len(column_1_high))/sampling_rate\n",
    "\n",
    "#Computing Intrinsic Mode Functions using EMD\n",
    "config = {'spline_kind':'cubic', 'MAX_ITERATION':100}\n",
    "emd = EMD(**config)\n",
    "imfs = emd(signal_2, max_imf=7)\n",
    "print('imfs = ' + f'{imfs.shape[0]:4d}')\n",
    "dt = time_series[0] - time_series[1]\n",
    "\n",
    "instant_phases = instant_phase(imfs)\n",
    "instant_freqs = np.diff(instant_phases)/(2*np.pi*dt)\n",
    "\n",
    "#Create a 3 panel figure showing the input signal, all IMFs, and instantaneous frequencies\n",
    "fig, axes = plt.subplots(3, figsize = (15,15))\n",
    "\n",
    "#Input Signal\n",
    "ax = axes[0]\n",
    "ax.plot(time_series, signal_2)\n",
    "ax.set_ylabel(\"Amplitude\")\n",
    "ax.set_title(\"Input signal\")\n",
    "\n",
    "#All IMFs\n",
    "ax = axes[1]\n",
    "for num, imf in enumerate(imfs):\n",
    "    ax.plot(time_series, imf, label='IMF %s' %(num + 1))\n",
    "ax.set_ylabel(\"Amplitude\") \n",
    "ax.set_title(\"IMFs\")\n",
    "\n",
    "#All instantaneous frequencies\n",
    "ax = axes[2]\n",
    "for num, instant_freq in enumerate (instant_freqs):\n",
    "    ax.plot(time_series[:-1], instant_freq, label = 'Freq %s' %(num + 1))   \n",
    "ax.set_xlabel(\"Time [s]\")\n",
    "ax.set_ylabel(\"Inst. Freq. [Hz]\")\n",
    "ax.set_title(\"Hilbert Transform\")\n",
    "\n",
    "plt.show()\n",
    "\n",
    "# Plotting all the IMFs alongside the input signal\n",
    "nIMFs = imfs.shape[0]\n",
    "plt.figure(figsize=(24,24))\n",
    "plt.subplot(nIMFs+1, 1, 1)\n",
    "plt.plot(signal_2, 'r')\n",
    "plt.ylabel('PPG Amplitude')\n",
    "\n",
    "for n in range(nIMFs):\n",
    "    plt.subplot(nIMFs+1, 1, n+2)\n",
    "    plt.plot(imfs[n], 'g')\n",
    "    plt.ylabel(\"IMF %i\" %(n+1))\n",
    "    plt.locator_params(axis='y', nbins=5)\n",
    "\n",
    "plt.xlabel(\"Time [s]\")\n",
    "plt.show()"
   ]
  }
 ],
 "metadata": {
  "kernelspec": {
   "display_name": "Python 3",
   "language": "python",
   "name": "python3"
  },
  "language_info": {
   "codemirror_mode": {
    "name": "ipython",
    "version": 3
   },
   "file_extension": ".py",
   "mimetype": "text/x-python",
   "name": "python",
   "nbconvert_exporter": "python",
   "pygments_lexer": "ipython3",
   "version": "3.10.11"
  }
 },
 "nbformat": 4,
 "nbformat_minor": 2
}
